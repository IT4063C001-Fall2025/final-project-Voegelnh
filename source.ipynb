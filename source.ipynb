{
 "cells": [
  {
   "attachments": {},
   "cell_type": "markdown",
   "metadata": {},
   "source": [
    "# Internet Access\n",
    "\n",
    "![Banner](./assets/banner.jpeg)"
   ]
  },
  {
   "attachments": {},
   "cell_type": "markdown",
   "metadata": {},
   "source": [
    "## Topic\n",
    "*What problem are you (or your stakeholder) trying to address?*\n",
    "📝 <!-- Answer Below -->\n",
    "\n",
    "The problem I want to address is the digital divide in internet access. Although the internet is essential for education, jobs, and daily life, many households and schools especially in rural or low-income areas that still lack reliable and affordable access. This gap limits learning opportunities, reduces economic mobility, and widens social inequality. My project will analyze patterns of internet access across countries and income groups to better understand where the disparities are greatest."
   ]
  },
  {
   "attachments": {},
   "cell_type": "markdown",
   "metadata": {},
   "source": [
    "## Project Question\n",
    "*What specific question are you seeking to answer with this project?*\n",
    "*This is not the same as the questions you ask to limit the scope of the project.*\n",
    "📝 <!-- Answer Below -->\n",
    "\n",
    "What I want to answer is how does unequal access to the internet impact educational opportunity across countries and income groups? By looking at both household internet usage and school connectivity, I aim to uncover whether limited access reinforces broader social and economic inequalities, and where progress is or isn’t being made"
   ]
  },
  {
   "attachments": {},
   "cell_type": "markdown",
   "metadata": {},
   "source": [
    "## What would an answer look like?\n",
    "*What is your hypothesized answer to your question?*\n",
    "📝 <!-- Answer Below -->\n",
    "\n",
    "My hypothesized answer is that countries with lower income levels and rural regions will show significantly lower rates of internet access in both households and schools, which in turn will correlate with weaker educational outcomes. I expect to see a clear divide between high-income and low-income countries, with middle-income countries showing uneven progress."
   ]
  },
  {
   "attachments": {},
   "cell_type": "markdown",
   "metadata": {},
   "source": [
    "## Data Sources\n",
    "*What 3 data sources have you identified for this project?*\n",
    "*How are you going to relate these datasets?*\n",
    "📝 <!-- Answer Below -->\n",
    "\n",
    "Share of primary schools with access to the Internet for teaching\n",
    "https://ourworldindata.org/grapher/primary-schools-with-access-to-internet\n",
    "\n",
    "FCC National Broadband Map \n",
    "https://broadbandmap.fcc.gov/home\n",
    "\n",
    "Individuals using the Internet (% of population)\n",
    "https://data.worldbank.org/indicator/IT.NET.USER.ZS"
   ]
  },
  {
   "attachments": {},
   "cell_type": "markdown",
   "metadata": {},
   "source": [
    "## Approach and Analysis\n",
    "*What is your approach to answering your project question?*\n",
    "*How will you use the identified data to answer your project question?*\n",
    "📝 <!-- Start Discussing the project here; you can add as many code cells as you need -->\n",
    "\n",
    "I will combine household internet usage data with school-level internet access data to compare connectivity trends across countries, regions, and income levels. Using country codes, I can merge these datasets and create visualizations such as line charts, bar charts, and maps. This will highlight disparities in internet access and show how the digital divide impacts education globally."
   ]
  },
  {
   "cell_type": "code",
   "execution_count": 13,
   "metadata": {},
   "outputs": [
    {
     "name": "stdout",
     "output_type": "stream",
     "text": [
      "Countries Dataset:\n",
      "  Country Code                                             Region  \\\n",
      "0          ABW                          Latin America & Caribbean   \n",
      "1          AFE                                                NaN   \n",
      "2          AFG  Middle East, North Africa, Afghanistan & Pakistan   \n",
      "3          AFW                                                NaN   \n",
      "4          AGO                                 Sub-Saharan Africa   \n",
      "\n",
      "           IncomeGroup                                       SpecialNotes  \\\n",
      "0          High income                                                NaN   \n",
      "1                  NaN  26 countries, stretching from the Red Sea in t...   \n",
      "2           Low income  The reporting period for national accounts dat...   \n",
      "3                  NaN  22 countries, stretching from the westernmost ...   \n",
      "4  Lower middle income  The World Bank systematically assesses the app...   \n",
      "\n",
      "                     TableName  Unnamed: 5  \n",
      "0                        Aruba         NaN  \n",
      "1  Africa Eastern and Southern         NaN  \n",
      "2                  Afghanistan         NaN  \n",
      "3   Africa Western and Central         NaN  \n",
      "4                       Angola         NaN   \n",
      "\n",
      "Indicators Dataset:\n",
      "   INDICATOR_CODE                                    INDICATOR_NAME  \\\n",
      "0  IT.NET.USER.ZS  Individuals using the Internet (% of population)   \n",
      "\n",
      "                                         SOURCE_NOTE  \\\n",
      "0  Internet users are individuals who have used t...   \n",
      "\n",
      "                                 SOURCE_ORGANIZATION  Unnamed: 4  \n",
      "0  World Telecommunication/ICT Indicators Databas...         NaN   \n",
      "\n",
      "Schools Dataset:\n",
      "    Entity Code  Year  \\\n",
      "0  Algeria  DZA  2020   \n",
      "1  Algeria  DZA  2021   \n",
      "2  Algeria  DZA  2022   \n",
      "3  Algeria  DZA  2023   \n",
      "4  Andorra  AND  2016   \n",
      "\n",
      "   4.a.1 - Proportion of schools with access to the internet for pedagogical purposes, by education level (%) - SE_ACS_INTNT - Primary  \n",
      "0                                               5.33                                                                                    \n",
      "1                                               5.33                                                                                    \n",
      "2                                               5.39                                                                                    \n",
      "3                                              57.85                                                                                    \n",
      "4                                             100.00                                                                                    \n"
     ]
    }
   ],
   "source": [
    "# Start your code here\n",
    "# Data Analysis and Visualization Libraries\n",
    "import pandas as pd\n",
    "import numpy as np\n",
    "import matplotlib.pyplot as plt\n",
    "import seaborn as sns\n",
    "import plotly.express as px\n",
    "import os\n",
    "\n",
    "\n",
    "# Load CSV files from the DataSets folder\n",
    "countries_df = pd.read_csv(\"DataSets/Metadata_Country_API_IT.NET.USER.ZS_DS2_en_csv_v2_973594.csv\")\n",
    "indicators_df = pd.read_csv(\"DataSets/Metadata_Indicator_API_IT.NET.USER.ZS_DS2_en_csv_v2_973594.csv\")\n",
    "schools_df = pd.read_csv(\"DataSets/primary-schools-with-access-to-internet.csv\")\n",
    "\n",
    "\n",
    "# Preview each dataset\n",
    "print(\"Countries Dataset:\")\n",
    "print(countries_df.head(), \"\\n\")\n",
    "\n",
    "print(\"Indicators Dataset:\")\n",
    "print(indicators_df.head(), \"\\n\")\n",
    "\n",
    "print(\"Schools Dataset:\")\n",
    "print(schools_df.head())"
   ]
  },
  {
   "cell_type": "code",
   "execution_count": 20,
   "metadata": {},
   "outputs": [
    {
     "name": "stdout",
     "output_type": "stream",
     "text": [
      "No year columns found. Here are your columns:\n",
      "Index(['Country Code', 'Region', 'IncomeGroup', 'SpecialNotes', 'TableName',\n",
      "       'Unnamed: 5'],\n",
      "      dtype='object')\n"
     ]
    }
   ],
   "source": [
    "internet_usage = countries_df.copy()\n",
    "\n",
    "# Convert all column names to strings before checking\n",
    "year_columns = [str(col) for col in internet_usage.columns if str(col).isdigit()]\n",
    "\n",
    "# If that’s still empty, print the columns to inspect\n",
    "if not year_columns:\n",
    "    print(\"No year columns found. Here are your columns:\")\n",
    "    print(internet_usage.columns)\n",
    "else:\n",
    "    latest_year = max(year_columns)\n",
    "\n",
    "    # Plot\n",
    "    plt.figure(figsize=(10, 6))\n",
    "    sns.histplot(internet_usage[latest_year].dropna(), bins=20, kde=True, color=\"skyblue\")\n",
    "    plt.title(f\"Global Distribution of Internet Users (% of Population) in {latest_year}\")\n",
    "    plt.xlabel(\"Internet Users (% of Population)\")\n",
    "    plt.ylabel(\"Number of Countries\")\n",
    "    plt.show()\n",
    "\n"
   ]
  },
  {
   "attachments": {},
   "cell_type": "markdown",
   "metadata": {},
   "source": [
    "## Resources and References\n",
    "*What resources and references have you used for this project?*\n",
    "📝 <!-- Answer Below -->\n",
    "https://ourworldindata.org/grapher/primary-schools-with-access-to-internet\n",
    "\n",
    "https://broadbandmap.fcc.gov/home\n",
    "\n",
    "https://data.worldbank.org/indicator/IT.NET.USER.ZS"
   ]
  },
  {
   "cell_type": "code",
   "execution_count": 11,
   "metadata": {},
   "outputs": [
    {
     "name": "stderr",
     "output_type": "stream",
     "text": [
      "usage: jupyter [-h] [--version] [--config-dir] [--data-dir] [--runtime-dir]\n",
      "               [--paths] [--json] [--debug]\n",
      "               [subcommand]\n",
      "\n",
      "Jupyter: Interactive Computing\n",
      "\n",
      "positional arguments:\n",
      "  subcommand     the subcommand to launch\n",
      "\n",
      "options:\n",
      "  -h, --help     show this help message and exit\n",
      "  --version      show the versions of core jupyter packages and exit\n",
      "  --config-dir   show Jupyter config dir\n",
      "  --data-dir     show Jupyter data dir\n",
      "  --runtime-dir  show Jupyter runtime dir\n",
      "  --paths        show all Jupyter paths. Add --json for machine-readable\n",
      "                 format.\n",
      "  --json         output paths as machine-readable json\n",
      "  --debug        output debug information about paths\n",
      "\n",
      "Available subcommands: kernel kernelspec migrate run troubleshoot\n",
      "\n",
      "Jupyter command `jupyter-nbconvert` not found.\n"
     ]
    }
   ],
   "source": [
    "# ⚠️ Make sure you run this cell at the end of your notebook before every submission!\n",
    "!jupyter nbconvert --to python source.ipynb"
   ]
  }
 ],
 "metadata": {
  "kernelspec": {
   "display_name": "Python 3",
   "language": "python",
   "name": "python3"
  },
  "language_info": {
   "codemirror_mode": {
    "name": "ipython",
    "version": 3
   },
   "file_extension": ".py",
   "mimetype": "text/x-python",
   "name": "python",
   "nbconvert_exporter": "python",
   "pygments_lexer": "ipython3",
   "version": "3.13.3"
  },
  "orig_nbformat": 4
 },
 "nbformat": 4,
 "nbformat_minor": 2
}
